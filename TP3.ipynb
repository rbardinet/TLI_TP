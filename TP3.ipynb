{
 "cells": [
  {
   "cell_type": "code",
   "execution_count": 24,
   "metadata": {},
   "outputs": [
    {
     "name": "stdout",
     "output_type": "stream",
     "text": [
      "{'pdf': [[0.4444444444444444, 0.2222222222222222], [0.2222222222222222, 0.1111111111111111]], 'pB': [0.6666666666666666, 0.3333333333333333], 'pA': [0.6666666666666666, 0.3333333333333333]}\n",
      "0.0\n"
     ]
    }
   ],
   "source": [
    "#Q1\n",
    "import math \n",
    "\n",
    "X = [2/3,1/3]\n",
    "Y = [2/3,1/3]\n",
    "\n",
    "def getPDF (X,Y):\n",
    "    nb_color = len(X)\n",
    "    pdf = []\n",
    "\n",
    "    for colorX in range(len(X)):\n",
    "        pdf.append([])\n",
    "\n",
    "        for colorY in range(len(Y)):\n",
    "            pdf[-1].append(X[colorX]*Y[colorY])\n",
    "\n",
    "    pB = []\n",
    "\n",
    "    for line in pdf:\n",
    "        temp_pB = 0\n",
    "        for colorproba in line:\n",
    "            temp_pB += colorproba\n",
    "        pB.append(temp_pB)\n",
    "        \n",
    "\n",
    "    pA = []\n",
    "\n",
    "    for column in range(len(pdf[0])):\n",
    "        temp_pA = 0\n",
    "        for row in range(len(pdf)):\n",
    "            temp_pA += pdf[row][column]\n",
    "        pA.append(temp_pA)\n",
    "        \n",
    "    \n",
    "    return {\"pdf\":pdf,\"pB\":pB,\"pA\":pA}\n",
    "\n",
    "print(getPDF(X,Y))\n",
    "\n",
    "def mutinfo(X,Y):\n",
    "\n",
    "    res = 0\n",
    "\n",
    "    pdf = getPDF(X, Y)\n",
    "\n",
    "    for x in range(len(X)):\n",
    "        for y in range(len(Y)):\n",
    "            tmp_log_term = pdf[\"pdf\"][x][y]/(pdf[\"pA\"][x]*pdf[\"pB\"][y])\n",
    "            #print(f\"tm_log = {tmp_log_term}\")\n",
    "            #tmp_log = math.log(tmp_log_term, 2)\n",
    "            #print(f\"log: {tmp_log}\")\n",
    "            #tmpfhkfj = pdf[\"pdf\"][x][y]\n",
    "            #print(f\"temp pdf value for x = {x} and y = {y} is : {tmpfhkfj  }\")\n",
    "            res += pdf[\"pdf\"][x][y] * math.log(tmp_log_term)\n",
    "    \n",
    "    return res\n",
    "\n",
    "    \n",
    "print(mutinfo(X,Y))\n",
    "\n"
   ]
  },
  {
   "cell_type": "code",
   "execution_count": 25,
   "metadata": {},
   "outputs": [
    {
     "name": "stdout",
     "output_type": "stream",
     "text": [
      "0.0\n"
     ]
    }
   ],
   "source": [
    "#Q2\n",
    "def getProba(v):\n",
    "    probDict = {}\n",
    "    l = len(v)\n",
    "    for symbol in v:\n",
    "        if symbol in probDict:\n",
    "            probDict[symbol] += 1\n",
    "        else:\n",
    "            probDict[symbol] = 1\n",
    "\n",
    "    for key in probDict:\n",
    "        probDict[key] = probDict[key]/l\n",
    "\n",
    "    return probDict\n",
    "\n",
    "\n",
    "def getEntropy(v):\n",
    "    probDict = getProba(v)\n",
    "    H = 0\n",
    "    for symbol in probDict:\n",
    "        # print(f\"symbol = {symbol}\")\n",
    "        # print(probDict[symbol])\n",
    "        # print(math.log(probDict[symbol], 10))\n",
    "        # print(-probDict[symbol]*math.log(probDict[symbol], 10))\n",
    "\n",
    "        H += -probDict[symbol]*math.log(probDict[symbol], 2)\n",
    "\n",
    "    return H\n",
    "\n",
    "def getNMI(X,Y):\n",
    "    mutinfoXY = mutinfo(X, Y)\n",
    "    hX = getEntropy(X)\n",
    "    hY = getEntropy(Y)\n",
    "\n",
    "    return (2 * mutinfoXY) / (hX + hY)\n",
    "\n",
    "print(getNMI(X,Y))\n",
    "    \n"
   ]
  },
  {
   "cell_type": "code",
   "execution_count": null,
   "metadata": {},
   "outputs": [],
   "source": [
    "#Q3\n",
    "\n"
   ]
  }
 ],
 "metadata": {
  "interpreter": {
   "hash": "1c3ea3198ba3828a3a741059bb3de7052ab89d7b3499ccf1f52d74ac5415a369"
  },
  "kernelspec": {
   "display_name": "Python 3.9.5 64-bit ('TP-DCbMQP93': pipenv)",
   "language": "python",
   "name": "python3"
  },
  "language_info": {
   "codemirror_mode": {
    "name": "ipython",
    "version": 3
   },
   "file_extension": ".py",
   "mimetype": "text/x-python",
   "name": "python",
   "nbconvert_exporter": "python",
   "pygments_lexer": "ipython3",
   "version": "3.9.5"
  },
  "orig_nbformat": 4
 },
 "nbformat": 4,
 "nbformat_minor": 2
}
