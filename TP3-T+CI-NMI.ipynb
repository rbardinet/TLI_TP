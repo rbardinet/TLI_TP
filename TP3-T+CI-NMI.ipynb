{
 "cells": [
  {
   "cell_type": "markdown",
   "id": "dcc02fa9",
   "metadata": {},
   "source": [
    "# LAB3"
   ]
  },
  {
   "cell_type": "code",
   "execution_count": 6,
   "id": "66c1d901",
   "metadata": {},
   "outputs": [],
   "source": [
    "import numpy as np\n",
    "import math\n",
    "import scipy.io\n",
    "\n",
    "\n",
    "from sklearn.cluster import KMeans\n",
    "import numpy as np\n",
    "import cv2\n",
    "import matplotlib.pyplot as plt\n",
    "import math\n",
    "import time\n",
    "\n",
    "img0=cv2.imread('bird_small.tiff')\n",
    "img0=cv2.cvtColor(img0,cv2.COLOR_BGR2RGB)\n",
    "\n",
    "img=np.asarray(img0.reshape((img0.shape[1]*img0.shape[0],3)))\n",
    "\n",
    "# isolating each color component of the image\n",
    "img_red = [pixel[0] for pixel in img]\n",
    "img_green = [pixel[1] for pixel in img]\n",
    "img_blue = [pixel[2] for pixel in img]"
   ]
  },
  {
   "cell_type": "code",
   "execution_count": 7,
   "id": "c0941b98",
   "metadata": {},
   "outputs": [],
   "source": [
    "# returns the contingency matrix between two same-sized arrays\n",
    "# by counting occurencies in each one, and dividing by the dimension so as to get probabilities\n",
    "def getContingencyMatrix(array1,array2):\n",
    "    dim = len(array1)\n",
    "    matrix = np.zeros((256,256))\n",
    "    for i in range(dim):\n",
    "        b0,b1 = array1[i],array2[i]\n",
    "        matrix[b0][b1]+=1\n",
    "    return matrix/dim"
   ]
  },
  {
   "cell_type": "code",
   "execution_count": 8,
   "id": "8b95825a",
   "metadata": {},
   "outputs": [],
   "source": [
    "# fetching the contingency matrices of eanch color component\n",
    "matrix_rg = getContingencyMatrix(img_red, img_green)\n",
    "matrix_rb = getContingencyMatrix(img_red, img_blue)\n",
    "matrix_gb = getContingencyMatrix(img_green, img_blue)"
   ]
  },
  {
   "cell_type": "code",
   "execution_count": null,
   "id": "a55cea13",
   "metadata": {},
   "outputs": [],
   "source": [
    "# returns the entropy from a distribution vector\n",
    "def getEntropy(distr):\n",
    "    entropy = 0\n",
    "    for p_k in distr.values():\n",
    "        if (p_k!=0):\n",
    "            entropy -= p_k * math.log2(p_k)\n",
    "    return entropy\n",
    "\n",
    "# returns the marginal pdf by summing on each line\n",
    "def getMarginalPdfX(mat):\n",
    "    p_x = {}\n",
    "    k = 0\n",
    "    for line in mat:\n",
    "        p_x[k] = np.sum(line)\n",
    "        k+=1\n",
    "    return p_x\n",
    "\n",
    "# return the marginal pdf by summing each column\n",
    "# just by transposing the matrix\n",
    "def getMarginalPdfY(mat):\n",
    "    return getMarginalPdfX(np.transpose(mat))\n",
    "\n",
    "# basically returns the whole contingency matrix but as a dictionnary for easier access, \n",
    "# as the function getContingencyMatrix() already returns a distribution\n",
    "def getJointPdfXY(mat):\n",
    "    p_xy = {}\n",
    "    dim = len(mat)\n",
    "    for b0 in range(dim):\n",
    "        for b1 in range(dim):\n",
    "            p_xy[b0,b1] = mat[b0][b1]\n",
    "    return p_xy"
   ]
  },
  {
   "cell_type": "markdown",
   "id": "26add9ba",
   "metadata": {},
   "source": [
    "## 1 - Mutual information  \n",
    "  \n",
    "Following the formula :  \n",
    "$$ I(A,B) = \\sum_{k=0}^{K-1}\\sum_{j=0}^{J-1}P(x_j, y_k) \\cdot \\frac{P(x_j,y_k)}{P(x_j)P(y_k)} $$  \n",
    "with : \n",
    " * $P(x_j,y_k)$ the joint pdf\n",
    " * $P(x_j)$ and $P(y_k)$ the marginal pdfs"
   ]
  },
  {
   "cell_type": "code",
   "execution_count": 9,
   "id": "bb67762e",
   "metadata": {},
   "outputs": [],
   "source": [
    "# returns the mutual information between two arrays, based on their contingency matrix\n",
    "def getMutualInformation(mat):\n",
    "    \n",
    "    # the dimension is here the number of values a pixel can take (1-dimensional pixel)\n",
    "    dim = 255\n",
    "\n",
    "    # calculating the partial pdfs\n",
    "    # (the joint pdf is the contingency matrix)\n",
    "    p_x = list(getMarginalPdfX(mat).values())\n",
    "    p_y = list(getMarginalPdfY(mat).values())\n",
    "\n",
    "    mutualInformation = 0\n",
    "\n",
    "    for i in range(dim):\n",
    "        for j in range(dim):\n",
    "            if mat[i][j] != 0:\n",
    "                mutualInformation += mat[i][j]*math.log2(mat[i][j]/(p_x[i]*p_y[j]))\n",
    "    return mutualInformation"
   ]
  },
  {
   "cell_type": "markdown",
   "id": "a5fa5c13",
   "metadata": {},
   "source": [
    "## 2 - Normalized Mutual Information  \n",
    "  \n",
    "Following the formula : \n",
    "$$ NMI(x,y) = \\frac{2 \\cdot I(x,y)}{H(x)+H(y)} $$"
   ]
  },
  {
   "cell_type": "code",
   "execution_count": 10,
   "id": "2cec36a4",
   "metadata": {},
   "outputs": [],
   "source": [
    "# returns the normalized mutual information\n",
    "def getNMI(mat):\n",
    "    p_x = getMarginalPdfX(mat)\n",
    "    p_y = getMarginalPdfY(mat)\n",
    "    H_x = getEntropy(p_x)\n",
    "    H_y = getEntropy(p_y)\n",
    "    mutualInformation = getMutualInformation(mat)\n",
    "    return 2*mutualInformation/(H_x+H_y)"
   ]
  },
  {
   "cell_type": "markdown",
   "id": "2f5be9d7",
   "metadata": {},
   "source": [
    "## 3 - NMI between colors"
   ]
  },
  {
   "cell_type": "code",
   "execution_count": 11,
   "id": "57bad37f",
   "metadata": {},
   "outputs": [
    {
     "name": "stdout",
     "output_type": "stream",
     "text": [
      "NMI red-green : 0.4116062221651455 \n",
      "NMI red-blue : 0.34333393786564986 \n",
      "NMI green-blue : 0.370662291066007\n"
     ]
    }
   ],
   "source": [
    "print(\"NMI red-green :\",getNMI(matrix_rg),\"\\nNMI red-blue :\",getNMI(matrix_rb),\"\\nNMI green-blue :\",getNMI(matrix_gb))\n",
    "#red and blue share the least mutual information"
   ]
  },
  {
   "cell_type": "markdown",
   "id": "096bb98c",
   "metadata": {},
   "source": [
    "## 4 - NMI between colors of kmeans-processed images"
   ]
  },
  {
   "cell_type": "code",
   "execution_count": 6,
   "id": "3827b723",
   "metadata": {},
   "outputs": [
    {
     "data": {
      "text/plain": [
       "[<matplotlib.lines.Line2D at 0x134ac0370>]"
      ]
     },
     "execution_count": 6,
     "metadata": {},
     "output_type": "execute_result"
    },
    {
     "data": {
      "image/png": "[encoded data removed]",
      "text/plain": [
       "<Figure size 432x288 with 1 Axes>"
      ]
     },
     "metadata": {
      "needs_background": "light"
     },
     "output_type": "display_data"
    }
   ],
   "source": [
    "# now we repeat the previous process, except we will use images processed through a k-means algorithm with \n",
    "# an increasing number of centroids, and compare the NMI between said images and the original\n",
    "\n",
    "k = []\n",
    "nmi_red_array = []\n",
    "nmi_green_array = []\n",
    "nmi_blue_array = []\n",
    "\n",
    "for i in range(2,200,8):\n",
    "    kmeans=KMeans(n_clusters=i).fit(img)\n",
    "\n",
    "    labels=kmeans.labels_\n",
    "    centroid=kmeans.cluster_centers_\n",
    "    \n",
    "    #rebuilding the actual values of pixels\n",
    "    flat_kmeans_img = []\n",
    "    for label in labels:\n",
    "        flat_kmeans_img.append(centroid[label].astype(int))\n",
    "    \n",
    "    img_kmeans_red = [pixel[0] for pixel in flat_kmeans_img]\n",
    "    img_kmeans_green = [pixel[1] for pixel in flat_kmeans_img]\n",
    "    img_kmeans_blue = [pixel[2] for pixel in flat_kmeans_img]\n",
    "    \n",
    "    #getting contignecy matrices between the real image and the kmeans'd image\n",
    "    matrix_rr = getContingencyMatrix(img_red, img_kmeans_red)\n",
    "    matrix_gg = getContingencyMatrix(img_green, img_kmeans_green)\n",
    "    matrix_bb = getContingencyMatrix(img_blue, img_kmeans_blue)\n",
    "    \n",
    "    #creating arrays of NMI\n",
    "    nmi_red_array.append(getNMI(matrix_rr))\n",
    "    nmi_green_array.append(getNMI(matrix_gg))\n",
    "    nmi_blue_array.append(getNMI(matrix_bb))\n",
    "    k.append(i)\n",
    "    \n",
    "plt.plot(k, nmi_red_array,color=\"red\")\n",
    "plt.plot(k, nmi_green_array,color=\"green\")\n",
    "plt.plot(k, nmi_blue_array,color=\"blue\")\n",
    "\n",
    "# as expected, the mutual information between the original image colors and the kmeans'd image rises \n",
    "# in a logarithmic fashion, as the number of clusters gets higher.\n",
    "# (the whole process is quite long)"
   ]
  },
  {
   "cell_type": "markdown",
   "id": "d910fad3",
   "metadata": {},
   "source": [
    "## 5 - NMI between DNAs"
   ]
  },
  {
   "cell_type": "code",
   "execution_count": 8,
   "id": "a7165a7c",
   "metadata": {},
   "outputs": [],
   "source": [
    "# class to represent and parse the .mat file containing the DNA\n",
    "class dnaDB():\n",
    "    \n",
    "    def __init__(self, path):\n",
    "        self.mat = scipy.io.loadmat(path)\n",
    "        self.db = {}\n",
    "        self.total = len(self.mat[\"label\"])\n",
    "        for k in range(len(self.mat[\"label\"])):\n",
    "            self.db[ self.mat[\"label\"][k][0][0] ] = self.mat[\"str\"][k]\n",
    "            \n",
    "    def getSpecie(self, index):\n",
    "        return self.mat[\"label\"][index][0]\n",
    "    \n",
    "    def getSpecies(self):\n",
    "        return [self.getSpecie(k)[0] for k in range(self.total)]\n",
    "    \n",
    "    def getDNA(self, animal):\n",
    "        return self.db[animal]"
   ]
  },
  {
   "cell_type": "code",
   "execution_count": 9,
   "id": "3fdda804",
   "metadata": {},
   "outputs": [],
   "source": [
    "# class to process, compare and analyze a DNA with another\n",
    "class DNA():\n",
    "    \n",
    "    def __init__(self, animal, db):\n",
    "        self.dna = db.getDNA(animal)\n",
    "        self.animal = animal\n",
    "        self.bases = {\"A\":0, \"T\":1, \"G\":2, \"C\":3, \"-\":4}\n",
    "        \n",
    "    def getContingencyMatrix(self,dna_):\n",
    "        dim = len(self.dna)\n",
    "        matrix = np.zeros((5,5))\n",
    "        for i in range(dim):\n",
    "            b0,b1 = self.bases[self.dna[i]],self.bases[dna_.dna[i]]\n",
    "            matrix[b0][b1]+=1\n",
    "        return matrix/dim\n",
    "\n",
    "    def getMarginalPdfX(self,dna_):\n",
    "        mat = self.getContingencyMatrix(dna_)\n",
    "        p_x = {}\n",
    "        k = 0\n",
    "        for line in mat:\n",
    "            p_x[k] = np.sum(line)\n",
    "            k+=1\n",
    "        return p_x\n",
    "\n",
    "    def getMarginalPdfY(self,dna_):\n",
    "        mat = np.transpose(self.getContingencyMatrix(dna_))\n",
    "        p_y = {}\n",
    "        k = 0\n",
    "        for line in mat:\n",
    "            p_y[k] = np.sum(line)\n",
    "            k+=1\n",
    "        return p_y\n",
    "    \n",
    "    def getJointPdfXY(self, dna_):\n",
    "        p_xy = {}\n",
    "        mat = self.getContingencyMatrix(dna_)\n",
    "        dim = len(mat)\n",
    "        for b0 in range(dim):\n",
    "            for b1 in range(dim):\n",
    "                p_xy[b0,b1] = mat[b0][b1]\n",
    "        return p_xy\n",
    "\n",
    "    def getMutualInformation(self, dna_):\n",
    "        \n",
    "        dim = len(self.bases)\n",
    "        mat = self.getContingencyMatrix(dna_)\n",
    "        #on peut se passer d'elle vu qu'il s'agit des valeurs dans la matrice\n",
    "        #p_xy = self.getJointPdfXY(dna_)\n",
    "\n",
    "        p_x = list(self.getMarginalPdfX(dna_).values())\n",
    "        p_y = list(self.getMarginalPdfY(dna_).values())\n",
    "        \n",
    "        mutualInformation = 0\n",
    "\n",
    "        for i in range(dim):\n",
    "            for j in range(dim):\n",
    "                if mat[i][j] != 0:\n",
    "                    mutualInformation += mat[i][j]*math.log2(mat[i][j]/(p_x[i]*p_y[j]))\n",
    "        return mutualInformation\n",
    "    \n",
    "    def getNMI(self, dna_):\n",
    "        p_x = self.getMarginalPdfX(dna_)\n",
    "        p_y = self.getMarginalPdfY(dna_)\n",
    "        H_x = self._getEntropy(p_x)\n",
    "        H_y = self._getEntropy(p_y)\n",
    "        mutualInformation = self.getMutualInformation(dna_)\n",
    "        return 2*mutualInformation/(H_x+H_y)\n",
    "        \n",
    "        \n",
    "    def _getEntropy(self,distr):\n",
    "        entropy = 0\n",
    "        for p_k in distr.values():\n",
    "            if (p_k!=0):\n",
    "                entropy -= p_k * math.log2(p_k)\n",
    "        return entropy"
   ]
  },
  {
   "cell_type": "code",
   "execution_count": 10,
   "id": "5e70a87d",
   "metadata": {
    "scrolled": true
   },
   "outputs": [
    {
     "name": "stdout",
     "output_type": "stream",
     "text": [
      "0.35930238744618453\n"
     ]
    }
   ],
   "source": [
    "# crating a new DNA database\n",
    "database = dnaDB(\"DNA_species.mat\")\n",
    "\n",
    "# loading different DNAs\n",
    "humanDNA = DNA(\"Human\", database)\n",
    "whaleDNA = DNA(\"Whale\", database)\n",
    "\n",
    "# NMI between those two DNAs\n",
    "print(humanDNA.getNMI(whaleDNA))"
   ]
  },
  {
   "cell_type": "code",
   "execution_count": 12,
   "id": "02943628",
   "metadata": {},
   "outputs": [
    {
     "name": "stdout",
     "output_type": "stream",
     "text": [
      "NMI between Cow and Carp : 0.3261698432152613\n",
      "NMI between Cow and Chicken : 0.3521306555888597\n",
      "NMI between Cow and Human : 0.32510514866079543\n",
      "NMI between Cow and Loach : 0.3333351635605638\n",
      "NMI between Cow and Mouse : 0.5218026932872569\n",
      "NMI between Cow and Rat : 0.5464150476467522\n",
      "NMI between Cow and Seal : 0.5669492617271653\n",
      "NMI between Cow and Whale : 0.5949575951285525\n",
      "NMI between Cow and Frog : 0.36957419470983727\n",
      "NMI between Carp and Cow : 0.3261698432152612\n",
      "NMI between Carp and Chicken : 0.31557401191290907\n",
      "NMI between Carp and Human : 0.26998119675373755\n",
      "NMI between Carp and Loach : 0.5039846585069331\n",
      "NMI between Carp and Mouse : 0.32837358024947955\n",
      "NMI between Carp and Rat : 0.32716029708832334\n",
      "NMI between Carp and Seal : 0.3291562222168901\n",
      "NMI between Carp and Whale : 0.35424960799306193\n",
      "NMI between Carp and Frog : 0.42437839584620585\n",
      "NMI between Chicken and Cow : 0.3521306555888597\n",
      "NMI between Chicken and Carp : 0.31557401191290907\n",
      "NMI between Chicken and Human : 0.30400886637707686\n",
      "NMI between Chicken and Loach : 0.2978853438235022\n",
      "NMI between Chicken and Mouse : 0.34776444895900643\n",
      "NMI between Chicken and Rat : 0.35511357223742196\n",
      "NMI between Chicken and Seal : 0.33892244452455134\n",
      "NMI between Chicken and Whale : 0.35193545051864666\n",
      "NMI between Chicken and Frog : 0.3574956014708106\n",
      "NMI between Human and Cow : 0.3251051486607954\n",
      "NMI between Human and Carp : 0.26998119675373755\n",
      "NMI between Human and Chicken : 0.3040088663770768\n",
      "NMI between Human and Loach : 0.2697343149608566\n",
      "NMI between Human and Mouse : 0.33342774666644365\n",
      "NMI between Human and Rat : 0.3368145124195572\n",
      "NMI between Human and Seal : 0.3207685017842033\n",
      "NMI between Human and Whale : 0.35930238744618453\n",
      "NMI between Human and Frog : 0.2907515314021682\n",
      "NMI between Loach and Cow : 0.3333351635605638\n",
      "NMI between Loach and Carp : 0.503984658506933\n",
      "NMI between Loach and Chicken : 0.2978853438235022\n",
      "NMI between Loach and Human : 0.26973431496085665\n",
      "NMI between Loach and Mouse : 0.31441533012973333\n",
      "NMI between Loach and Rat : 0.33818802704673584\n",
      "NMI between Loach and Seal : 0.3299003178719794\n",
      "NMI between Loach and Whale : 0.329145578668501\n",
      "NMI between Loach and Frog : 0.40272317326316237\n",
      "NMI between Mouse and Cow : 0.5218026932872569\n",
      "NMI between Mouse and Carp : 0.3283735802494795\n",
      "NMI between Mouse and Chicken : 0.3477644489590065\n",
      "NMI between Mouse and Human : 0.3334277466664437\n",
      "NMI between Mouse and Loach : 0.3144153301297334\n",
      "NMI between Mouse and Rat : 0.6460904268258911\n",
      "NMI between Mouse and Seal : 0.5322609870858311\n",
      "NMI between Mouse and Whale : 0.5284224611978169\n",
      "NMI between Mouse and Frog : 0.3878578257960061\n",
      "NMI between Rat and Cow : 0.5464150476467522\n",
      "NMI between Rat and Carp : 0.32716029708832334\n",
      "NMI between Rat and Chicken : 0.3551135722374219\n",
      "NMI between Rat and Human : 0.3368145124195573\n",
      "NMI between Rat and Loach : 0.33818802704673584\n",
      "NMI between Rat and Mouse : 0.6460904268258911\n",
      "NMI between Rat and Seal : 0.5148270773163416\n",
      "NMI between Rat and Whale : 0.5336154501816395\n",
      "NMI between Rat and Frog : 0.36988547355296036\n",
      "NMI between Seal and Cow : 0.5669492617271654\n",
      "NMI between Seal and Carp : 0.3291562222168901\n",
      "NMI between Seal and Chicken : 0.3389224445245514\n",
      "NMI between Seal and Human : 0.3207685017842033\n",
      "NMI between Seal and Loach : 0.32990031787197927\n",
      "NMI between Seal and Mouse : 0.532260987085831\n",
      "NMI between Seal and Rat : 0.5148270773163416\n",
      "NMI between Seal and Whale : 0.557910838329529\n",
      "NMI between Seal and Frog : 0.3658705516128263\n",
      "NMI between Whale and Cow : 0.5949575951285525\n",
      "NMI between Whale and Carp : 0.354249607993062\n",
      "NMI between Whale and Chicken : 0.35193545051864666\n",
      "NMI between Whale and Human : 0.3593023874461847\n",
      "NMI between Whale and Loach : 0.32914557866850097\n",
      "NMI between Whale and Mouse : 0.5284224611978169\n",
      "NMI between Whale and Rat : 0.5336154501816396\n",
      "NMI between Whale and Seal : 0.557910838329529\n",
      "NMI between Whale and Frog : 0.39464815864132585\n",
      "NMI between Frog and Cow : 0.3695741947098372\n",
      "NMI between Frog and Carp : 0.42437839584620585\n",
      "NMI between Frog and Chicken : 0.3574956014708106\n",
      "NMI between Frog and Human : 0.2907515314021683\n",
      "NMI between Frog and Loach : 0.4027231732631624\n",
      "NMI between Frog and Mouse : 0.38785782579600603\n",
      "NMI between Frog and Rat : 0.3698854735529603\n",
      "NMI between Frog and Seal : 0.3658705516128262\n",
      "NMI between Frog and Whale : 0.39464815864132574\n",
      "\n",
      "Max NMI reached between Mouse and Rat with NMI = 0.6460904268258911\n"
     ]
    }
   ],
   "source": [
    "# now we repeat the same comparison process between all the species\n",
    "# and fetching the max NMI by the same occasion\n",
    "species = database.getSpecies()\n",
    "maxNMI,ms1,ms2 = 0,\"\",\"\"\n",
    "\n",
    "for s1 in species:\n",
    "    for s2 in species:\n",
    "        \n",
    "        if s1!=s2:\n",
    "            dna1 = DNA(s1,database)\n",
    "            dna2 = DNA(s2,database)\n",
    "            nmi = dna1.getNMI(dna2)\n",
    "            \n",
    "            if nmi>maxNMI:\n",
    "                maxNMI = nmi\n",
    "                ms1 = s1\n",
    "                ms2 = s2\n",
    "                \n",
    "            print(\"NMI between\",s1,\"and\",s2,\":\",nmi)\n",
    "            \n",
    "print(\"\\nMax NMI reached between\",ms1,\"and\",ms2,\"with NMI =\",maxNMI)"
   ]
  },
  {
   "cell_type": "code",
   "execution_count": null,
   "id": "49389a8c",
   "metadata": {},
   "outputs": [],
   "source": []
  }
 ],
 "metadata": {
  "kernelspec": {
   "display_name": "Python 3 (ipykernel)",
   "language": "python",
   "name": "python3"
  },
  "language_info": {
   "codemirror_mode": {
    "name": "ipython",
    "version": 3
   },
   "file_extension": ".py",
   "mimetype": "text/x-python",
   "name": "python",
   "nbconvert_exporter": "python",
   "pygments_lexer": "ipython3",
   "version": "3.9.7"
  }
 },
 "nbformat": 4,
 "nbformat_minor": 5
}
