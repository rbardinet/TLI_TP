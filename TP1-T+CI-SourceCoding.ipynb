{
 "cells": [
  {
   "cell_type": "markdown",
   "id": "a40761c0",
   "metadata": {},
   "source": [
    "# 1 - Source Coding"
   ]
  },
  {
   "cell_type": "code",
   "execution_count": 4,
   "id": "0463712a",
   "metadata": {},
   "outputs": [
    {
     "name": "stdout",
     "output_type": "stream",
     "text": [
      "3300\n"
     ]
    }
   ],
   "source": [
    "import numpy as np\n",
    "from random import seed\n",
    "\n",
    "from random import randint\n",
    "from random import choices\n",
    "import matplotlib.pyplot as plt\n",
    "\n",
    "import math\n",
    "alphabet = \"abcdefghijklmonpqrstuvwxyz\"\n",
    "finite_Set = generate_Distribution(2, [0.5, 0.5])\n",
    "\n",
    "import PIL\n",
    "\n",
    "png = PIL.Image.open(\"/Users/glenan/Downloads/scan.png\")\n",
    "#png.show()\n",
    "\n",
    "png_data=np.asarray(png)\n",
    "print(png_data.shape[0])"
   ]
  },
  {
   "cell_type": "markdown",
   "id": "b10ffbc4",
   "metadata": {},
   "source": [
    "The `finite_Set` variable will be the alphabet from which random vectors will be built. "
   ]
  },
  {
   "cell_type": "code",
   "execution_count": 5,
   "id": "6f9f059b",
   "metadata": {},
   "outputs": [],
   "source": [
    "def generate_Distribution(set_Length, custom_Weights):\n",
    "    set_Dict = {}\n",
    "    for k in range(0, set_Length):\n",
    "        if (custom_Weights == 0):\n",
    "            set_Dict[alphabet[k]] = 1/set_Length\n",
    "        elif (len(custom_Weights) == set_Length):\n",
    "            set_Dict[alphabet[k]] = custom_Weights[k]\n",
    "        else:\n",
    "            print(\"erreur\")\n",
    "    return set_Dict"
   ]
  },
  {
   "cell_type": "code",
   "execution_count": 6,
   "id": "d8eedb3a",
   "metadata": {},
   "outputs": [
    {
     "name": "stdout",
     "output_type": "stream",
     "text": [
      "{'a': 0.5, 'b': 0.5}\n"
     ]
    }
   ],
   "source": [
    "print(generate_Distribution(2, 0))"
   ]
  },
  {
   "cell_type": "code",
   "execution_count": 7,
   "id": "91499b2b",
   "metadata": {},
   "outputs": [],
   "source": [
    "def rand_Vector(vector_length, finite_set):\n",
    "    lst = choices(list(finite_set.keys()), weights=finite_set.values(), k=vector_length)\n",
    "    v = np.array(lst)\n",
    "    return v"
   ]
  },
  {
   "cell_type": "markdown",
   "id": "ff4ba9e5",
   "metadata": {},
   "source": [
    "The function `rand_Vector` will build a vector of given length with values randomly chosen from a `finite_Set`."
   ]
  },
  {
   "cell_type": "code",
   "execution_count": 8,
   "id": "82f094c4",
   "metadata": {},
   "outputs": [],
   "source": [
    "def get_Distribution(rand_vector):\n",
    "    #as we used a np.vector to create a random vector, its elements are countable with the following\n",
    "    values, counts = np.unique(rand_vector, return_counts=True)\n",
    "    #a new array of *observed* probabilities is thus created\n",
    "    \n",
    "    #distribution = counts/len(rand_vector)\n",
    "    return dict(zip(values, counts/len(rand_vector)))"
   ]
  },
  {
   "cell_type": "markdown",
   "id": "f242c5d7",
   "metadata": {},
   "source": [
    "The function `get_Distribution` will output a list of the *observed* distribution of any given vector.  "
   ]
  },
  {
   "cell_type": "code",
   "execution_count": 9,
   "id": "d62299b2",
   "metadata": {},
   "outputs": [
    {
     "name": "stdout",
     "output_type": "stream",
     "text": [
      "{'a': 0.6, 'b': 0.4}\n"
     ]
    }
   ],
   "source": [
    "randomized_distributed_Set = get_Distribution(rand_Vector(10, finite_Set))\n",
    "print(randomized_distributed_Set)"
   ]
  },
  {
   "cell_type": "markdown",
   "id": "b9435b99",
   "metadata": {},
   "source": [
    "This method (downsampling an uniform distribution) can be used to generate randomized distributions for a given set of symbols.  \n",
    "For example :  "
   ]
  },
  {
   "cell_type": "code",
   "execution_count": 10,
   "id": "5811e41d",
   "metadata": {
    "scrolled": true
   },
   "outputs": [
    {
     "name": "stdout",
     "output_type": "stream",
     "text": [
      "Each symbol has the same associated probability : \n",
      " {'a': 0.1, 'b': 0.1, 'c': 0.1, 'd': 0.1, 'e': 0.1, 'f': 0.1, 'g': 0.1, 'h': 0.1, 'i': 0.1, 'j': 0.1}\n",
      "New randomized distribution : \n",
      " [<map object at 0x12645a430>]\n"
     ]
    }
   ],
   "source": [
    "uniform_Distribution = generate_Distribution(10,0)\n",
    "print(\"Each symbol has the same associated probability : \\n\", uniform_Distribution) \n",
    "\n",
    "random_Distrib_From_Uniform_Set = get_Distribution(rand_Vector(23, uniform_Distribution))\n",
    "print(\"New randomized distribution : \\n\", \n",
    "      list({map(lambda key: key, random_Distrib_From_Uniform_Set.keys()):\n",
    "       map(lambda p: round(p,3), random_Distrib_From_Uniform_Set.values())}))"
   ]
  },
  {
   "cell_type": "markdown",
   "id": "fa3e804e",
   "metadata": {},
   "source": [
    "## 1.1 - Entropy estimation"
   ]
  },
  {
   "cell_type": "code",
   "execution_count": 13,
   "id": "afb2d145",
   "metadata": {},
   "outputs": [],
   "source": [
    "def entropy_V(vector):\n",
    "    entropy = 0\n",
    "    distr = get_Distribution(vector)\n",
    "    for p_k in distr.values():\n",
    "        if (p_k!=0):\n",
    "            entropy -= p_k * math.log2(p_k)\n",
    "    return entropy\n",
    "\n",
    "def entropy_D(distr):\n",
    "    entropy = 0\n",
    "    for p_k in distr.values():\n",
    "        if (p_k!=0):\n",
    "            entropy -= p_k * math.log2(p_k)\n",
    "    return entropy"
   ]
  },
  {
   "cell_type": "markdown",
   "id": "4099cf13",
   "metadata": {},
   "source": [
    "These functions will return the entropy of a given vector with a certain distribution of probabilities for each values. `entropy_V` takes a vector as arguemnt while `entropy_D` takes a custom ditribution of discrete probabilities.  "
   ]
  },
  {
   "cell_type": "markdown",
   "id": "0f1fb581",
   "metadata": {},
   "source": [
    "## 1.2 - H close to 1 bit  \n",
    "\n",
    "Note that for any long enough vector originating from a smaller `finite_Set`, the entropy will reach its upper bound, which is $log_2(\\#(finite\\_Set))$"
   ]
  },
  {
   "cell_type": "code",
   "execution_count": 14,
   "id": "59d0c507",
   "metadata": {},
   "outputs": [
    {
     "name": "stdout",
     "output_type": "stream",
     "text": [
      "0.999953833266239\n",
      "1.0\n"
     ]
    }
   ],
   "source": [
    "print(entropy_D(get_Distribution(rand_Vector(1000,finite_Set))))\n",
    "print(math.log2(len([0,1])))"
   ]
  },
  {
   "cell_type": "markdown",
   "id": "6b856096",
   "metadata": {},
   "source": [
    "## 1.3 - Entropy graph"
   ]
  },
  {
   "cell_type": "code",
   "execution_count": 15,
   "id": "d6f6ce1f",
   "metadata": {
    "scrolled": true
   },
   "outputs": [
    {
     "data": {
      "image/png": "[encoded data removed]",
      "text/plain": [
       "<Figure size 432x288 with 1 Axes>"
      ]
     },
     "metadata": {
      "needs_background": "light"
     },
     "output_type": "display_data"
    }
   ],
   "source": [
    "#alpha is the \"truth\"\n",
    "alpha = [ i/100 for i in range(0, 101)]\n",
    "ent = [ entropy_D( generate_Distribution(2,[alpha[i], 1 - alpha[i]]) ) for i in range(0, len(alpha))]\n",
    "\n",
    "\n",
    "#alpha2 is an observed relization\n",
    "alpha2 = []\n",
    "for k in range(0,101):\n",
    "    d = get_Distribution(rand_Vector(30, generate_Distribution(2, [alpha[k], 1-alpha[k]])))\n",
    "    if \"a\" in d:\n",
    "        alpha2.append(d[\"a\"])\n",
    "    else:\n",
    "        alpha2.append(0)   \n",
    "ent2 = [ entropy_D( generate_Distribution(2, [alpha2[i], 1 - alpha2[i]])) for i in range(0,len(alpha)) ]\n",
    "    \n",
    "#generating an \"observed\" distribution from a small vector using the original value of alpha (P(X=0)).\n",
    "#alpha2 = [get_Distribution(rand_Vector(10, generate_Distribution(2, [alpha[5], 1-alpha[5]])))[\"a\"] for i in range(1,101)]\n",
    "\n",
    "\n",
    "#general plotting\n",
    "plt.plot(alpha, ent, \"r\", label=\"truth\")\n",
    "plt.plot(alpha2, ent2,\"o\", \"b\", label=\"observed\")\n",
    "plt.xlabel('alpha = P(X=0)')\n",
    "plt.ylabel('Entropy') \n",
    "plt.title('Variations of entropy function of alpha')\n",
    "plt.legend()\n",
    "plt.show()"
   ]
  },
  {
   "cell_type": "markdown",
   "id": "ac7a227e",
   "metadata": {},
   "source": [
    "Here we consider a succession of 0s and 1s : `alpha` will be the \"truth\" probability of getting a 0, obtained from the original distribution.  \n",
    "\n",
    "`alpha2` will be an \"observed\" distribution, originating from the observation of a realization of the original ditribution. The fact that this observed vector is relativeliy small induces a certain error when compared to the \"truth\" ditribution.  "
   ]
  },
  {
   "cell_type": "markdown",
   "id": "62a30b34",
   "metadata": {},
   "source": [
    "## 1.4 - Discrete source *with memory*\n",
    "\n",
    "If we assume the stationarity of the Markov chain : $$(p_0, p_1) * \\begin{pmatrix} p_{00} & p_{01} \\\\ p_{10} & p_{11}\\end{pmatrix} = (p_0, p_1)$$   \n",
    "Which gives the following system :  \n",
    "$$\\begin{cases} p_0.p_{00}+p_1.p_{01}=p_0 \\\\ p_0.p_{10}+p_1.p_{11}=p_1 \\\\ p_0+p_1=1 \\end{cases}$$  \n",
    "\n",
    "Solving this system gives :  \n",
    "$$\\begin{cases} p_0 = \\frac{p_{01}}{1-p_{00}+p_{01}} \\\\ p_1 = \\frac{1-p_{00}}{1-p_{00}+p_{01}} \\end{cases}$$  \n",
    "\n",
    "In the end, the entropy of a discrete source with memory is :  \n",
    "$$H(x_k) = -\\sum_{k=0}^{1} \\sum_{j=0}^1 p_{jk}.log_2(p_jk).p_k\\\\ = -p_{00}.log_2(p_{00}).p_0 -p_{01}.log_2(p_{01}).p_1\\\\- p_{10}.log_2(p_{10}).p_0 - p_{11}.log_2(p_{11}).p_1$$"
   ]
  },
  {
   "cell_type": "markdown",
   "id": "4bebfb74",
   "metadata": {},
   "source": [
    "## 1.5 - Application to image processing  "
   ]
  },
  {
   "cell_type": "code",
   "execution_count": 18,
   "id": "c2607822",
   "metadata": {},
   "outputs": [],
   "source": [
    "# 1 is white\n",
    "# 0 is black\n",
    "\n",
    "#this function will count every transition to get the transition matrix\n",
    "def get_Probs(image):\n",
    "    \n",
    "    png_data=np.asarray(image)\n",
    "    flat_array = png_data.flatten()\n",
    "    #dimensions of the image\n",
    "    dim_X = png_data.shape[0]\n",
    "    dim_Y = png_data.shape[1]\n",
    "    \n",
    "    #number of transitions from either black or white pixels\n",
    "    transition_from_black = 0\n",
    "    transition_from_white = 0\n",
    "    \n",
    "    #transition occurences\n",
    "    o_0_0 = 0 #black to black\n",
    "    o_0_1 = 0 #black to white\n",
    "    o_1_0 = 0 #white to black\n",
    "    o_1_1 = 0 #white to white\n",
    "    \n",
    "    current_Color = png_data[0][0]\n",
    "    #iteration through the image : the first pixel is omitted because it has no \"previous pixel\"\n",
    "    for pixel in flat_array[1:]:\n",
    "            \n",
    "            #depending on the transition, incrementing the appropriate counter\n",
    "            if (current_Color == pixel):\n",
    "                \n",
    "                if (pixel == 1):\n",
    "                    transition_from_white += 1\n",
    "                    o_1_1 += 1\n",
    "                    \n",
    "                else:\n",
    "                    transition_from_black += 1\n",
    "                    o_0_0 += 1\n",
    "                    \n",
    "            elif (current_Color != pixel):\n",
    "                \n",
    "                if (pixel == 1):\n",
    "                    transition_from_black += 1\n",
    "                    o_0_1 += 1\n",
    "                    \n",
    "                else:\n",
    "                    transition_from_white += 1\n",
    "                    o_1_0 += 1\n",
    "            current_Color = pixel\n",
    "    \n",
    "    #returning the transition matrix (it's actually a list)\n",
    "    return [o_0_0/transition_from_black, \n",
    "            o_0_1/transition_from_black, \n",
    "            o_1_0/transition_from_white, \n",
    "            o_1_1/transition_from_white]"
   ]
  },
  {
   "cell_type": "code",
   "execution_count": 19,
   "id": "92cd57cf",
   "metadata": {},
   "outputs": [
    {
     "name": "stdout",
     "output_type": "stream",
     "text": [
      "[0.7422790022614507, 0.2577209977385493, 0.013361755881493773, 0.9866382441185062]\n"
     ]
    }
   ],
   "source": [
    "transition_Probs = get_Probs(png)\n",
    "print(transition_Probs)\n",
    "#warning : this is an extemely inefficient function that will take about 30s to end."
   ]
  },
  {
   "cell_type": "markdown",
   "id": "979be757",
   "metadata": {},
   "source": [
    "This gives the following transition matrix : $$\\begin{pmatrix} 0.7422790022614507 & 0.2577209977385493 \\\\ 0.013361755881493773 & 0.9866382441185062\\end{pmatrix}$$   \n",
    "  \n",
    "The *white to white* transition probability is obviously very high $(p_{11})$, as well as the *black to black* transition probability ($p_{00}$).  \n",
    "This matrix is *per se* stochastic, and thus represents a Markov process. \n",
    "\n",
    "\n",
    "Now that we have counted all the transitions in the image, we can compute the entropy of this data source : "
   ]
  },
  {
   "cell_type": "code",
   "execution_count": 23,
   "id": "fba5f4ac",
   "metadata": {},
   "outputs": [],
   "source": [
    "def entropy_w_Mem(transition_probs):\n",
    "    \n",
    "    #to make things clearer\n",
    "    p_0_0 = transition_probs[0]\n",
    "    p_0_1 = transition_probs[1]\n",
    "    p_1_0 = transition_probs[2]\n",
    "    p_1_1 = transition_probs[3]\n",
    "    \n",
    "    #we first need to compute the *a priori* probabilities using the formulae in 1.4 (p0 & p1)\n",
    "    p_0 = p_0_1 / (1 - p_0_0 + p_0_1)\n",
    "    p_1 = (1 - p_0_0) / (1 - p_0_0 + p_0_1)\n",
    "    \n",
    "    #entropy : \n",
    "    entropy = (p_0_0*math.log2(p_0_0)*p_0 + \n",
    "               p_0_1*math.log2(p_0_1)*p_1 + \n",
    "               p_1_0*math.log2(p_1_0)*p_0 + \n",
    "               p_1_1*math.log2(p_1_1)*p_1)\n",
    "    \n",
    "    return -entropy\n",
    "\n",
    "\n",
    "\n",
    "def entropy_wo_Mem(image):\n",
    "    png_data=np.asarray(image).flatten()\n",
    "    return entropy_V(png_data)"
   ]
  },
  {
   "cell_type": "code",
   "execution_count": 24,
   "id": "6294183d",
   "metadata": {},
   "outputs": [],
   "source": [
    "entropy_w_mem = entropy_w_Mem(transition_Probs)\n",
    "entropy_wo_mem = entropy_wo_Mem(png_data)"
   ]
  },
  {
   "cell_type": "code",
   "execution_count": 25,
   "id": "d1bdda78",
   "metadata": {},
   "outputs": [
    {
     "name": "stdout",
     "output_type": "stream",
     "text": [
      "Avec mémoire : 0.46281114884188257\n",
      "sans mémoire : 0.2833745831777161\n"
     ]
    }
   ],
   "source": [
    "print(\"Avec mémoire :\", entropy_w_mem)\n",
    "print(\"sans mémoire :\", entropy_wo_mem)"
   ]
  },
  {
   "cell_type": "markdown",
   "id": "82d763bd",
   "metadata": {},
   "source": [
    "Interpretation : given the fact that the source's (image) values originate from the set [0,1], and that this source is not memoryless, the entropy is expected to be somewhat lower than 1 ($log_2(2)$).  \n",
    "Thus E = 0.4628 bit/symbol seems at least coherent when compared to the E = 0.2282 bit/symbol of a memoryless source.\n"
   ]
  },
  {
   "cell_type": "code",
   "execution_count": 26,
   "id": "de0f2040",
   "metadata": {},
   "outputs": [],
   "source": [
    "def RLE_encoder(png_data):\n",
    "    #flattening the data :\n",
    "    RLE_data = []\n",
    "    currentpixel = png_data[0][0]\n",
    "    RLE_data.append((1,currentpixel))\n",
    "\n",
    "    for line in png_data:\n",
    "        for pixel in line:\n",
    "            if pixel==currentpixel :\n",
    "                #we increment the last stored tuple\n",
    "                tmp_tup = RLE_data[-1]\n",
    "                RLE_data[-1] = (tmp_tup[0]+1,tmp_tup[1])\n",
    "            else :\n",
    "                #we add the new sequence beginning to the RLE array\n",
    "                RLE_data.append((1,pixel))\n",
    "                currentpixel = pixel\n",
    "    return RLE_data"
   ]
  },
  {
   "cell_type": "code",
   "execution_count": 27,
   "id": "16d3a44d",
   "metadata": {},
   "outputs": [],
   "source": [
    "def rebuild(decoded_f):\n",
    "    decoded_np = np.array(decoded_f[:8415000])\n",
    "    return np.split(decoded_np,3300)\n",
    "\n",
    "def RLE_decoder(encoded):\n",
    "    decoded_flat = []\n",
    "    for c in encoded:\n",
    "        for k in range(c[0]):\n",
    "            decoded_flat.append(c[1])\n",
    "    plt.imshow(rebuild(decoded_flat), cmap = \"binary\")\n",
    "    plt.savefig(\"name\", dpi=300)\n",
    "    return 0"
   ]
  },
  {
   "cell_type": "code",
   "execution_count": 29,
   "id": "776cea28",
   "metadata": {},
   "outputs": [
    {
     "data": {
      "text/plain": [
       "0"
      ]
     },
     "execution_count": 29,
     "metadata": {},
     "output_type": "execute_result"
    },
    {
     "data": {
      "image/png": "[encoded data removed]",
      "text/plain": [
       "<Figure size 432x288 with 1 Axes>"
      ]
     },
     "metadata": {
      "needs_background": "light"
     },
     "output_type": "display_data"
    }
   ],
   "source": [
    "RLE_decoder(RLE_encoder(np.array(png)))"
   ]
  },
  {
   "cell_type": "code",
   "execution_count": null,
   "id": "54628f2d",
   "metadata": {},
   "outputs": [],
   "source": []
  }
 ],
 "metadata": {
  "kernelspec": {
   "display_name": "Python 3 (ipykernel)",
   "language": "python",
   "name": "python3"
  },
  "language_info": {
   "codemirror_mode": {
    "name": "ipython",
    "version": 3
   },
   "file_extension": ".py",
   "mimetype": "text/x-python",
   "name": "python",
   "nbconvert_exporter": "python",
   "pygments_lexer": "ipython3",
   "version": "3.9.7"
  }
 },
 "nbformat": 4,
 "nbformat_minor": 5
}
